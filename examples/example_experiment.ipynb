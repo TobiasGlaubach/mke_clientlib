{
 "cells": [
  {
   "cell_type": "code",
   "execution_count": 1,
   "id": "20d753d5-d237-4b36-b605-e809e31809d7",
   "metadata": {
    "papermill": {
     "duration": null,
     "end_time": null,
     "exception": null,
     "start_time": null,
     "status": "completed"
    },
    "tags": []
   },
   "outputs": [],
   "source": [
    "import time\n",
    "import numpy as np\n",
    "import pandas as pd\n",
    "import datetime, pytz"
   ]
  },
  {
   "cell_type": "markdown",
   "id": "237706d3-b227-4369-ade8-8f40132721d8",
   "metadata": {},
   "source": [
    "<span style=\"color:red\">**Install the client library if not done so already**</span>."
   ]
  },
  {
   "cell_type": "code",
   "execution_count": 2,
   "id": "589f898f-3440-4b83-b1bc-f16f03343464",
   "metadata": {},
   "outputs": [],
   "source": [
    "# %pip install mke_client"
   ]
  },
  {
   "cell_type": "markdown",
   "id": "286130b3-4c59-4023-a24c-87de109499c0",
   "metadata": {},
   "source": [
    "<span style=\"color:red\">**Import the client library**</span>"
   ]
  },
  {
   "cell_type": "code",
   "execution_count": 3,
   "id": "ea4ff4d2-3a54-4be2-85d2-b106837d7076",
   "metadata": {},
   "outputs": [],
   "source": [
    "from mke_client.rimlib import Experiment, get_utcnow, make_zulustr"
   ]
  },
  {
   "cell_type": "code",
   "execution_count": 4,
   "id": "94b7caa8",
   "metadata": {
    "papermill": {
     "duration": null,
     "end_time": null,
     "exception": null,
     "start_time": null,
     "status": "completed"
    },
    "tags": [
     "injected-parameters"
    ]
   },
   "outputs": [],
   "source": [
    "# Parameters\n",
    "dbserver_path='http://localhost:8080'\n",
    "experiments_id = 1\n"
   ]
  },
  {
   "cell_type": "code",
   "execution_count": 5,
   "id": "ff807c39-bc64-4ab4-a54f-3ef3b170c54a",
   "metadata": {},
   "outputs": [],
   "source": [
    "my_dbobject = Experiment(experiments_id, dbserver_path)\n",
    "\n",
    "# to test if correct\n",
    "my_row_as_dict = my_dbobject.get_me()"
   ]
  },
  {
   "cell_type": "code",
   "execution_count": 6,
   "id": "9ec39ba8-484d-4954-8376-b43a0d70bd60",
   "metadata": {},
   "outputs": [],
   "source": [
    "my_row_as_dict = my_dbobject.set_status_running()"
   ]
  },
  {
   "cell_type": "code",
   "execution_count": 7,
   "id": "c90406e7-d725-46ca-98b7-5f7ee76531e5",
   "metadata": {},
   "outputs": [
    {
     "data": {
      "text/plain": [
       "{'comments': None,\n",
       " 'script_params_json': '{\"antenna_id\": \"t000\", \"end_time\": \"2022-06-13T06:16:36Z\"}',\n",
       " 'time_initiated_iso': '2022-06-12T12:25:00Z',\n",
       " 'needs_manual_upload': False,\n",
       " 'change_history': '{\"2022-07-02T19:40:02Z\": {\"status\": [\"INITIALIZING\", \"RUNNING\"]}}',\n",
       " 'results_json': '{\"2\": \"/shared/meas/skampi/20220613_0616_1_skampi_exp_dummy/data_raw/20220613_0616_IDP_1_IDD_2_ACU.csv\", \"3\": \"/shared/meas/skampi/20220613_0616_1_skampi_exp_dummy/data_raw/20220613_1216_IDP_1_IDD_3_ACU.csv\"}',\n",
       " 'caldav_uid': None,\n",
       " 'script_version': None,\n",
       " 'caldav_calendar': None,\n",
       " 'aux_files_json': '{\"3\": \"/shared/meas/skampi/20220613_0616_1_skampi_exp_dummy/data_aux/20220613_0616_IDP_1_MWS.zip\", \"4\": \"/shared/meas/skampi/20220613_0616_1_skampi_exp_dummy/data_aux/20220613_0616_IDP_1_RFC.csv\", \"5\": \"/shared/meas/skampi/20220613_0616_1_skampi_exp_dummy/data_aux/20220613_0616_IDP_1_MWS.zip\", \"6\": \"/shared/meas/skampi/20220613_0616_1_skampi_exp_dummy/data_aux/20220613_0616_IDP_1_RFC.csv\", \"7\": \"/shared/meas/skampi/20220613_0616_1_skampi_exp_dummy/data_aux/20220613_0616_IDP_1_OCS.csv\"}',\n",
       " 'last_change_time_iso': '2022-07-02T19:40:02Z',\n",
       " 'status': 'RUNNING',\n",
       " 'start_condition': '2022-06-13T06:15:00Z',\n",
       " 'script_name': 'test_script',\n",
       " 'duration_expected_hr_dec': '0.01',\n",
       " 'time_started_iso': '2022-06-13T06:16:00Z',\n",
       " 'papermill_json': None,\n",
       " 'script_in_path': '/shared/examples/scripts/test_script.ipynb',\n",
       " 'devices_json': '[\"ACU\"]',\n",
       " 'forecasted_oc': None,\n",
       " 'antenna_id': 't000',\n",
       " 'script_out_path': '/shared/meas/skampi/20220613_0616_1_skampi_exp_dummy/20220613_0616_1_skampi_exp_dummy.ipynb',\n",
       " 'errors': None,\n",
       " 'id': 1,\n",
       " 'time_finished_iso': None}"
      ]
     },
     "execution_count": 7,
     "metadata": {},
     "output_type": "execute_result"
    }
   ],
   "source": [
    "my_row_as_dict"
   ]
  },
  {
   "cell_type": "code",
   "execution_count": 8,
   "id": "483be33d-737b-4844-846a-c5152730453b",
   "metadata": {},
   "outputs": [
    {
     "data": {
      "text/plain": [
       "('/shared/meas/skampi/20220613_0616_1_skampi_exp_dummy/data_raw/20220702_1952_IDP_1_IDD_7_ACU.csv',\n",
       " 7,\n",
       " [])"
      ]
     },
     "execution_count": 8,
     "metadata": {},
     "output_type": "execute_result"
    }
   ],
   "source": [
    "my_dbobject.get_path_for_new_datafile()"
   ]
  },
  {
   "cell_type": "code",
   "execution_count": 9,
   "id": "fb4a72a6-1a1d-42b7-848c-039eb8eae4dd",
   "metadata": {},
   "outputs": [
    {
     "data": {
      "text/plain": [
       "[]"
      ]
     },
     "execution_count": 9,
     "metadata": {},
     "output_type": "execute_result"
    }
   ],
   "source": [
    "my_dbobject.get_pathes_for_new_global_auxfiles()"
   ]
  },
  {
   "cell_type": "code",
   "execution_count": 10,
   "id": "4cf3c4a2-3abc-4eda-9bcd-74d140a829ce",
   "metadata": {},
   "outputs": [
    {
     "data": {
      "text/plain": [
       "[['OCS',\n",
       "  8,\n",
       "  '/shared/meas/skampi/20220613_0616_1_skampi_exp_dummy/data_aux/20220613_0616_IDP_1_OCS.csv']]"
      ]
     },
     "execution_count": 10,
     "metadata": {},
     "output_type": "execute_result"
    }
   ],
   "source": [
    "my_dbobject.get_pathes_for_new_global_auxfiles('OCS')"
   ]
  }
 ],
 "metadata": {
  "kernelspec": {
   "display_name": "Python 3 (ipykernel)",
   "language": "python",
   "name": "python3"
  },
  "language_info": {
   "codemirror_mode": {
    "name": "ipython",
    "version": 3
   },
   "file_extension": ".py",
   "mimetype": "text/x-python",
   "name": "python",
   "nbconvert_exporter": "python",
   "pygments_lexer": "ipython3",
   "version": "3.9.12"
  },
  "papermill": {
   "default_parameters": {},
   "duration": 0.050865,
   "end_time": "2022-07-01T13:14:46.636843",
   "environment_variables": {},
   "exception": null,
   "input_path": "d:/repos/mke_eng/scripts/test_script.ipynb",
   "output_path": "d:/repos/mke_eng/tests/test_data/temp_out/test_antenna/20220701_1314_None_test_antenna_exp_script/20220701_1314_None_test_antenna_exp_script.ipynb",
   "parameters": {
    "antenna_id": "test_antenna",
    "comments": "",
    "devices": [],
    "duration_expected_hr_dec": "0.1",
    "experiments_id": 1,
    "forecasted_oc": "N/A",
    "needs_manual_upload": false,
    "param1": 1,
    "script_in_path": "d:/repos/mke_eng/scripts/test_script.ipynb",
    "script_name": "test_script",
    "script_out_path": "d:/repos/mke_eng/tests/test_data/temp_out/test_antenna/20220701_1314_None_test_antenna_exp_script/20220701_1314_None_test_antenna_exp_script.ipynb",
    "script_version": "add9d522ecba2a5e930151d0667146f9_2022-07-01T08:43:33Z"
   },
   "start_time": "2022-07-01T13:14:46.585978",
   "version": "2.3.4"
  }
 },
 "nbformat": 4,
 "nbformat_minor": 5
}
