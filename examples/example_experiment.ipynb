{
 "cells": [
  {
   "cell_type": "code",
   "execution_count": null,
   "id": "20d753d5-d237-4b36-b605-e809e31809d7",
   "metadata": {
    "papermill": {
     "duration": null,
     "end_time": null,
     "exception": null,
     "start_time": null,
     "status": "completed"
    },
    "tags": []
   },
   "outputs": [],
   "source": [
    "import time\n",
    "import numpy as np\n",
    "import pandas as pd\n",
    "import datetime, pytz"
   ]
  },
  {
   "cell_type": "markdown",
   "id": "237706d3-b227-4369-ade8-8f40132721d8",
   "metadata": {},
   "source": [
    "<span style=\"color:red\">**Install the client library if not done so already**</span>."
   ]
  },
  {
   "cell_type": "code",
   "execution_count": null,
   "id": "589f898f-3440-4b83-b1bc-f16f03343464",
   "metadata": {},
   "outputs": [],
   "source": [
    "# %pip install mke_clientlib"
   ]
  },
  {
   "cell_type": "markdown",
   "id": "286130b3-4c59-4023-a24c-87de109499c0",
   "metadata": {},
   "source": [
    "<span style=\"color:red\">**Import the client library**</span>"
   ]
  },
  {
   "cell_type": "code",
   "execution_count": null,
   "id": "ea4ff4d2-3a54-4be2-85d2-b106837d7076",
   "metadata": {},
   "outputs": [],
   "source": [
    "from mke_client.rimlib import Experiment, get_utcnow"
   ]
  },
  {
   "cell_type": "markdown",
   "id": "d4fedf69-34e1-41a8-b7d4-fbfa0e47e4d7",
   "metadata": {
    "papermill": {
     "duration": null,
     "end_time": null,
     "exception": null,
     "start_time": null,
     "status": "completed"
    },
    "tags": []
   },
   "source": [
    "___\n",
    "# THIS IS A TEST NOTEBOOK TO PROTOTYPE THE EXECUTION CODE\n",
    "___"
   ]
  },
  {
   "cell_type": "markdown",
   "id": "33c5f25b-70f8-4d12-9244-e1a23be1add2",
   "metadata": {},
   "source": [
    "## Default Parameters for this notebook"
   ]
  },
  {
   "cell_type": "code",
   "execution_count": null,
   "id": "39f4c41b-9efc-4ce3-8cfe-f54c432c5368",
   "metadata": {
    "papermill": {
     "duration": null,
     "end_time": null,
     "exception": null,
     "start_time": null,
     "status": "completed"
    },
    "tags": [
     "parameters"
    ]
   },
   "outputs": [],
   "source": [
    "ticklen = 10\n",
    "\n",
    "param1 = 5 # test paramaeter 1\n",
    "param2 = 'A' # test paramaeter 1\n",
    "param3 = ['A', 'B', 'C'] # test paramaeter 1"
   ]
  },
  {
   "cell_type": "markdown",
   "id": "700d9ee6-430c-449a-b8a4-37b77951dfea",
   "metadata": {},
   "source": [
    "## Specific Parameters for this Script\n",
    "<span style=\"color:red\">**The following cell will be written automatically by the processing bot when staring the notebook**</span>\n",
    "\n",
    "Note, that the parameters written in the following cell also hold the meta information from the experiment this script is associated with."
   ]
  },
  {
   "cell_type": "code",
   "execution_count": null,
   "id": "94b7caa8",
   "metadata": {
    "papermill": {
     "duration": null,
     "end_time": null,
     "exception": null,
     "start_time": null,
     "status": "completed"
    },
    "tags": [
     "injected-parameters"
    ]
   },
   "outputs": [],
   "source": [
    "# Parameters\n",
    "dbserver_path='http://localhost:8080'\n",
    "experiments_id = 1\n",
    "devices = ['WTR']\n",
    "antenna_id = \"test_antenna\"\n",
    "script_in_path = \"d:/repos/mke_eng/scripts/test_script.ipynb\"\n",
    "script_out_path = \"d:/repos/mke_eng/tests/test_data/temp_out/test_antenna/20220701_1314_None_test_antenna_exp_script/20220701_1314_None_test_antenna_exp_script.ipynb\"\n",
    "script_version = \"add9d522ecba2a5e930151d0667146f9_2022-07-01T08:43:33Z\"\n",
    "script_name = \"test_script\"\n",
    "duration_expected_hr_dec = \"0.1\"\n",
    "comments = \"\"\n",
    "forecasted_oc = \"N/A\"\n",
    "needs_manual_upload = False\n",
    "param1 = 1\n"
   ]
  },
  {
   "cell_type": "code",
   "execution_count": null,
   "id": "6466af49-4b4e-4c65-b5b4-054652487a90",
   "metadata": {},
   "outputs": [],
   "source": [
    "if isinstance(duration_expected_hr_dec, str):\n",
    "    duration_expected_hr_dec = float(duration_expected_hr_dec)"
   ]
  },
  {
   "cell_type": "code",
   "execution_count": null,
   "id": "ff807c39-bc64-4ab4-a54f-3ef3b170c54a",
   "metadata": {},
   "outputs": [],
   "source": [
    "my_dbobject = Experiment(experiments_id, dbserver_path)\n",
    "\n",
    "# to test if correct\n",
    "my_row_as_dict = my_dbobject.get_me()"
   ]
  },
  {
   "cell_type": "code",
   "execution_count": null,
   "id": "9ec39ba8-484d-4954-8376-b43a0d70bd60",
   "metadata": {},
   "outputs": [],
   "source": [
    "my_row_as_dict = my_dbobject.set_status_running()"
   ]
  },
  {
   "cell_type": "code",
   "execution_count": null,
   "id": "c90406e7-d725-46ca-98b7-5f7ee76531e5",
   "metadata": {},
   "outputs": [],
   "source": [
    "my_row_as_dict"
   ]
  },
  {
   "cell_type": "markdown",
   "id": "e6a017b1-38db-4556-ad38-e8625a25cf01",
   "metadata": {},
   "source": [
    "# THE ACTUAL TEST CODE GOES HERE\n",
    "## Just Simulate Some Dummy Data and Wait"
   ]
  },
  {
   "cell_type": "code",
   "execution_count": null,
   "id": "35e0732b-9170-4cf3-b50b-654acbee65a9",
   "metadata": {},
   "outputs": [],
   "source": [
    "def make_some_dummy_data(t_len_sec, dt):\n",
    "    channels = ['acu.actual_timestamp',\n",
    "     'acu.general_management_and_controller.state',\n",
    "     'acu.general_management_and_controller.p_act_az',\n",
    "     'acu.general_management_and_controller.v_act_az',\n",
    "     'acu.general_management_and_controller.p_point_corr_az',\n",
    "     'acu.general_management_and_controller.p_act_el',\n",
    "     'acu.general_management_and_controller.v_act_el',\n",
    "     'acu.general_management_and_controller.p_point_corr_az',\n",
    "    ]\n",
    "    \n",
    "    t_now = get_utcnow()\n",
    "    dts = [(t_now + datetime.timedelta(seconds=dti)).timestamp() for dti in np.arange(0, t_len_sec, dt, dtype=float)]\n",
    "    \n",
    "    data = np.random.randint(1000, size=(len(dts), len(channels)))\n",
    "    data[:,0] = dts\n",
    "    return pd.DataFrame(data, columns=channels)\n",
    "\n",
    "def make_some_dummy_auxdata(t_len_sec, dt):\n",
    "    channels = ['time', 'wind_speed', 'wind_direction']\n",
    "    \n",
    "    t_now = get_utcnow()\n",
    "    dts = [(t_now + datetime.timedelta(seconds=dti)).timestamp() for dti in np.arange(0, t_len_sec, dt, dtype=float)]\n",
    "    \n",
    "    data = np.random.randint(1000, size=(len(dts), len(channels)))\n",
    "    data[:,0] = dts\n",
    "    return pd.DataFrame(data, columns=channels)\n",
    "\n",
    "def make_some_dummy_global_auxdata(t_len_sec, dt):\n",
    "    channels = ['time', 'x_pixel', 'y_pixel', 'on_target']\n",
    "    \n",
    "    t_now = get_utcnow()\n",
    "    dts = [(t_now + datetime.timedelta(seconds=dti)).timestamp() for dti in np.arange(0, t_len_sec, dt, dtype=float)]\n",
    "    \n",
    "    data = np.random.randint(1000, size=(len(dts), len(channels)))\n",
    "    data[:,0] = dts\n",
    "    return pd.DataFrame(data, columns=channels)\n",
    "\n",
    "\n",
    "def testrun():          \n",
    "    # simulate some test run...\n",
    "    time.sleep(10)\n",
    "    \n",
    "    # simulate generating some data\n",
    "    df_main = make_some_dummy_data(10, 1)\n",
    "    dfs_dummy_aux = {k:make_some_dummy_auxdata(10, 1) for k in devices}\n",
    "    \n",
    "    # return it\n",
    "    return df_main, dfs_dummy_aux\n",
    "                             \n",
    "def finish(t_elapsed):\n",
    "    return {'OCS': make_some_dummy_global_auxdata(t_elapsed.total_seconds, 1)}, {'OCS': '.txt'}\n",
    "    "
   ]
  },
  {
   "cell_type": "markdown",
   "id": "830de5b7-d907-49f1-a3fa-7bff411b774b",
   "metadata": {
    "papermill": {
     "duration": null,
     "end_time": null,
     "exception": null,
     "start_time": null,
     "status": "completed"
    },
    "tags": []
   },
   "source": [
    "# RUN THE EXPERIMENT"
   ]
  },
  {
   "cell_type": "code",
   "execution_count": null,
   "id": "f26e5202-f3c4-4bf2-8838-ffffa5320f37",
   "metadata": {
    "papermill": {
     "duration": null,
     "end_time": null,
     "exception": null,
     "start_time": null,
     "status": "completed"
    },
    "tags": []
   },
   "outputs": [],
   "source": [
    "t_start = get_utc_now()\n",
    "print(make_zulustr(get_utcnow()) + ' | Starting...')\n",
    "\n",
    "tickcount = 0\n",
    "while tickcount < n_ticks_max: \n",
    "    tickcount += 1\n",
    "    \n",
    "    # ---------------------------------------\n",
    "    # check if I should stop\n",
    "    # ---------------------------------------\n",
    "    \n",
    "    if my_dbobject.get_remaining_time() <= ticklen*1.1:\n",
    "        print(make_zulustr(get_utcnow()) + ' | Time is up... finshing')\n",
    "        my_row_as_dict = my_dbobject.set_status_finishing()\n",
    "        break\n",
    "        \n",
    "    if my_dbobject.check_for_cancel():\n",
    "        print(make_zulustr(get_utcnow()) + ' | Cancle initiated from externally... cancelling')\n",
    "        my_row_as_dict = my_dbobject.set_status_cancelling()\n",
    "        break\n",
    "        \n",
    "    # get the start time...\n",
    "    t_start_iter = get_utc_now()\n",
    "    \n",
    "    \n",
    "    # ---------------------------------------\n",
    "    # perform the test\n",
    "    # ---------------------------------------\n",
    "    df_main, dfs_dummy_aux = testrun()\n",
    "\n",
    "    # ---------------------------------------\n",
    "    # save the data\n",
    "    # ---------------------------------------\n",
    "    devices_to_add = {k:'.csv' for k in devices}\n",
    "    mainfile_path, datafile_id, aux_data = my_dbobject.get_path_for_new_datafile(start_time=t_start_iter, devices_to_add=devices_to_add)\n",
    "    \n",
    "    print(f'Saving main data file with id {datafile_id} to: \"{mainfile_path}\"')\n",
    "    df_main.to_csv(mainfile_path, index=False)\n",
    "    \n",
    "    for df_aux, (key, aux_id, aux_path) in zip(dfs_dummy_aux, aux_data):\n",
    "        print(f'Saving aux data file with id {key, aux_id} to: \"{aux_path}\"')\n",
    "        df_aux.to_csv(aux_path, index=False)\n",
    "    \n",
    "    print(make_zulustr(get_utcnow()) + f' | completed tick {tickcount} ...')\n",
    "    \n",
    "        \n",
    "t_end = get_utc_now()\n",
    "t_elapsed = t_start - t_end"
   ]
  },
  {
   "cell_type": "code",
   "execution_count": null,
   "id": "eae0cc1c-89c7-4b80-87e7-7c9e7d9aabee",
   "metadata": {},
   "outputs": [],
   "source": [
    "# ---------------------------------------\n",
    "# write any global data\n",
    "# ---------------------------------------\n",
    "if not my_row_as_dict['status'] == 'CANCELLING':\n",
    "    dc_auxg_data, dc_auxg_ext = finish(t_elapsed)\n",
    "\n",
    "\n",
    "    aux_data = my_dbobject.get_pathes_for_new_global_auxfiles(dc_auxg_ext)\n",
    "\n",
    "    for (key_i, id_i, savepath_i) in aux_data:\n",
    "        print(f'Saving global aux data file with id {key_i, id_i} to: \"{savepath_i}\"')\n",
    "        dc_auxg_data[key_i].to_csv(aux_path, index=False)\n"
   ]
  },
  {
   "cell_type": "code",
   "execution_count": null,
   "id": "2a383db7-4896-43bc-b2fe-9510e4249751",
   "metadata": {},
   "outputs": [],
   "source": [
    "my_row_as_dict"
   ]
  }
 ],
 "metadata": {
  "kernelspec": {
   "display_name": "Python 3 (ipykernel)",
   "language": "python",
   "name": "python3"
  },
  "language_info": {
   "codemirror_mode": {
    "name": "ipython",
    "version": 3
   },
   "file_extension": ".py",
   "mimetype": "text/x-python",
   "name": "python",
   "nbconvert_exporter": "python",
   "pygments_lexer": "ipython3",
   "version": "3.9.12"
  },
  "papermill": {
   "default_parameters": {},
   "duration": 0.050865,
   "end_time": "2022-07-01T13:14:46.636843",
   "environment_variables": {},
   "exception": null,
   "input_path": "d:/repos/mke_eng/scripts/test_script.ipynb",
   "output_path": "d:/repos/mke_eng/tests/test_data/temp_out/test_antenna/20220701_1314_None_test_antenna_exp_script/20220701_1314_None_test_antenna_exp_script.ipynb",
   "parameters": {
    "antenna_id": "test_antenna",
    "comments": "",
    "devices": [],
    "duration_expected_hr_dec": "0.1",
    "experiments_id": 1,
    "forecasted_oc": "N/A",
    "needs_manual_upload": false,
    "param1": 1,
    "script_in_path": "d:/repos/mke_eng/scripts/test_script.ipynb",
    "script_name": "test_script",
    "script_out_path": "d:/repos/mke_eng/tests/test_data/temp_out/test_antenna/20220701_1314_None_test_antenna_exp_script/20220701_1314_None_test_antenna_exp_script.ipynb",
    "script_version": "add9d522ecba2a5e930151d0667146f9_2022-07-01T08:43:33Z"
   },
   "start_time": "2022-07-01T13:14:46.585978",
   "version": "2.3.4"
  }
 },
 "nbformat": 4,
 "nbformat_minor": 5
}
